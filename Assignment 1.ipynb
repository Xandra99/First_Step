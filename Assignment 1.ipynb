{
 "cells": [
  {
   "cell_type": "code",
   "execution_count": 2,
   "id": "791d8cf7",
   "metadata": {},
   "outputs": [
    {
     "name": "stdout",
     "output_type": "stream",
     "text": [
      "The value of x after swapping: 200\n",
      "The value of y after swapping: 100\n"
     ]
    }
   ],
   "source": [
    "# Python program to swap two variables\n",
    "\n",
    "x = 100\n",
    "y = 200\n",
    "\n",
    "# create a temporary variable and swap the values\n",
    "z = x\n",
    "x = y\n",
    "y = z\n",
    "\n",
    "print('The value of x after swapping:', x)\n",
    "print('The value of y after swapping:', y)"
   ]
  },
  {
   "cell_type": "code",
   "execution_count": 3,
   "id": "66a7015c",
   "metadata": {},
   "outputs": [
    {
     "name": "stdout",
     "output_type": "stream",
     "text": [
      "The value of x after swapping: 200\n",
      "The value of y after swapping: 100\n"
     ]
    }
   ],
   "source": [
    "# Python program to swap two variables without using third variable\n",
    "\n",
    "x = 100\n",
    "y = 200 \n",
    "x = x + y\n",
    "y = x - y\n",
    "x = x - y\n",
    "\n",
    "print('The value of x after swapping:', x)\n",
    "print('The value of y after swapping:', y)"
   ]
  },
  {
   "cell_type": "code",
   "execution_count": null,
   "id": "4ed1ae9d",
   "metadata": {},
   "outputs": [],
   "source": []
  }
 ],
 "metadata": {
  "kernelspec": {
   "display_name": "Python 3 (ipykernel)",
   "language": "python",
   "name": "python3"
  },
  "language_info": {
   "codemirror_mode": {
    "name": "ipython",
    "version": 3
   },
   "file_extension": ".py",
   "mimetype": "text/x-python",
   "name": "python",
   "nbconvert_exporter": "python",
   "pygments_lexer": "ipython3",
   "version": "3.10.10"
  }
 },
 "nbformat": 4,
 "nbformat_minor": 5
}
